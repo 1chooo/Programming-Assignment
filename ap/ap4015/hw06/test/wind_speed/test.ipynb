{
 "cells": [
  {
   "cell_type": "code",
   "execution_count": 1,
   "metadata": {},
   "outputs": [
    {
     "name": "stderr",
     "output_type": "stream",
     "text": [
      "/var/folders/nl/l2b2vttd7j73mhvfwrp0lwzr0000gn/T/ipykernel_11167/475764315.py:31: RuntimeWarning: overflow encountered in square\n",
      "  WS = np.sqrt(u ** 2 + v ** 2)\n",
      "/var/folders/nl/l2b2vttd7j73mhvfwrp0lwzr0000gn/T/ipykernel_11167/475764315.py:31: RuntimeWarning: invalid value encountered in square\n",
      "  WS = np.sqrt(u ** 2 + v ** 2)\n",
      "/var/folders/nl/l2b2vttd7j73mhvfwrp0lwzr0000gn/T/ipykernel_11167/475764315.py:31: RuntimeWarning: overflow encountered in add\n",
      "  WS = np.sqrt(u ** 2 + v ** 2)\n"
     ]
    }
   ],
   "source": [
    "import numpy as np\n",
    "import matplotlib.pyplot as plt\n",
    "import cartopy.crs as ccrs\n",
    "\n",
    "# Set the latitudinal and longitudinal limits of the map.\n",
    "minLat, maxLat = 17, 30\n",
    "minLon, maxLon = 114, 130\n",
    "\n",
    "# Load wind speed data\n",
    "diri = \"./\"\n",
    "fili = \"fanapid.dat\"\n",
    "fName = diri + fili\n",
    "\n",
    "nlat = 252\n",
    "mlon = 252\n",
    "nlev = 10\n",
    "ntim = 1\n",
    "vars = 4\n",
    "UNDEF = 1.e30\n",
    "\n",
    "x = np.empty((vars, nlev, nlat, mlon), dtype=np.float32)\n",
    "\n",
    "f = open(fName, \"rb\")\n",
    "for nt in range(ntim):\n",
    "    for v in range(vars):\n",
    "        x[v, :, :, :] = np.fromfile(f, dtype=np.float32, count=nlev * nlat * mlon).reshape(nlev, nlat, mlon)\n",
    "\n",
    "u = x[0, :, :, :]\n",
    "v = x[1, :, :, :]\n",
    "\n",
    "WS = np.sqrt(u ** 2 + v ** 2)\n",
    "\n",
    "# Set map projection\n",
    "projection = ccrs.LambertConformal(\n",
    "    central_longitude=120.0,\n",
    "    central_latitude=20.0,\n",
    "    standard_parallels=(10.0, 40.0)\n",
    ")\n",
    "\n",
    "# Create a map subplot\n",
    "fig, ax = plt.subplots(subplot_kw={'projection': projection})\n",
    "\n",
    "# Define latitude and longitude grids\n",
    "lat = np.linspace(minLat, maxLat, nlat)\n",
    "lon = np.linspace(minLon, maxLon, mlon)\n",
    "lon, lat = np.meshgrid(lon, lat)\n",
    "\n",
    "# Plot wind speed field\n",
    "ax.streamplot(lon, lat, u, v, transform=ccrs.PlateCarree(), linewidth=1, arrowsize=1, density=2, color='black')\n",
    "\n",
    "# Plot wind speed contour\n",
    "cf = ax.contourf(lon, lat, WS, transform=ccrs.PlateCarree(), levels=10, cmap='coolwarm')\n",
    "\n",
    "# Add colorbar\n",
    "cbar = plt.colorbar(cf, ax=ax)\n",
    "cbar.set_label('Wind Speed (m/s)')\n",
    "\n",
    "# Add coastlines and borders\n",
    "ax.coastlines()\n",
    "ax.add_feature(ccrs.Borders(), linestyle=':')\n",
    "\n",
    "# Set map extent\n",
    "ax.set_extent([minLon, maxLon, minLat, maxLat], crs=ccrs.PlateCarree())\n",
    "\n",
    "# Add title\n",
    "ax.set_title('Streamline and Wind Speed Field')\n",
    "\n",
    "# Show the plot\n",
    "plt.show()\n"
   ]
  },
  {
   "cell_type": "code",
   "execution_count": null,
   "metadata": {},
   "outputs": [],
   "source": []
  }
 ],
 "metadata": {
  "kernelspec": {
   "display_name": "py38",
   "language": "python",
   "name": "python3"
  },
  "language_info": {
   "codemirror_mode": {
    "name": "ipython",
    "version": 3
   },
   "file_extension": ".py",
   "mimetype": "text/x-python",
   "name": "python",
   "nbconvert_exporter": "python",
   "pygments_lexer": "ipython3",
   "version": "3.8.16"
  },
  "orig_nbformat": 4
 },
 "nbformat": 4,
 "nbformat_minor": 2
}
