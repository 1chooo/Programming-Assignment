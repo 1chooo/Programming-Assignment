{
 "cells": [
  {
   "cell_type": "code",
   "execution_count": 7,
   "id": "55637535",
   "metadata": {
    "pycharm": {
     "name": "#%%\n"
    }
   },
   "outputs": [
    {
     "name": "stderr",
     "output_type": "stream",
     "text": [
      "/opt/anaconda3/lib/python3.9/site-packages/xarray/conventions.py:516: SerializationWarning: variable 'air' has multiple fill values {-99, 32767}, decoding all values to NaN.\n",
      "  new_vars[k] = decode_cf_variable(\n"
     ]
    },
    {
     "ename": "NameError",
     "evalue": "name 'ds1985' is not defined",
     "output_type": "error",
     "traceback": [
      "\u001b[0;31m---------------------------------------------------------------------------\u001b[0m",
      "\u001b[0;31mNameError\u001b[0m                                 Traceback (most recent call last)",
      "\u001b[0;32m/var/folders/ct/nyvlfpn11s1cq3sqt4vxv6lm0000gn/T/ipykernel_3662/3618672555.py\u001b[0m in \u001b[0;36m<module>\u001b[0;34m\u001b[0m\n\u001b[1;32m     17\u001b[0m \u001b[0mtemp\u001b[0m \u001b[0;34m=\u001b[0m \u001b[0mds\u001b[0m\u001b[0;34m.\u001b[0m\u001b[0mvariables\u001b[0m\u001b[0;34m[\u001b[0m\u001b[0;34m'air'\u001b[0m\u001b[0;34m]\u001b[0m\u001b[0;34m[\u001b[0m\u001b[0;34m:\u001b[0m\u001b[0;34m]\u001b[0m\u001b[0;34m\u001b[0m\u001b[0;34m\u001b[0m\u001b[0m\n\u001b[1;32m     18\u001b[0m \u001b[0;34m\u001b[0m\u001b[0m\n\u001b[0;32m---> 19\u001b[0;31m \u001b[0mtemp1985\u001b[0m \u001b[0;34m=\u001b[0m \u001b[0mds1985\u001b[0m\u001b[0;34m.\u001b[0m\u001b[0mvariables\u001b[0m\u001b[0;34m[\u001b[0m\u001b[0;34m'air'\u001b[0m\u001b[0;34m]\u001b[0m\u001b[0;34m[\u001b[0m\u001b[0;34m:\u001b[0m\u001b[0;34m]\u001b[0m\u001b[0;34m\u001b[0m\u001b[0;34m\u001b[0m\u001b[0m\n\u001b[0m\u001b[1;32m     20\u001b[0m \u001b[0;34m\u001b[0m\u001b[0m\n\u001b[1;32m     21\u001b[0m \u001b[0mtemp\u001b[0m\u001b[0;34m,\u001b[0m \u001b[0mlons\u001b[0m \u001b[0;34m=\u001b[0m \u001b[0madd_cyclic_point\u001b[0m\u001b[0;34m(\u001b[0m\u001b[0mtemp\u001b[0m\u001b[0;34m,\u001b[0m \u001b[0mcoord\u001b[0m\u001b[0;34m=\u001b[0m\u001b[0mds\u001b[0m\u001b[0;34m[\u001b[0m\u001b[0;34m'lon'\u001b[0m\u001b[0;34m]\u001b[0m\u001b[0;34m)\u001b[0m \u001b[0;31m# add a cyclic boundary after 357.5;\u001b[0m\u001b[0;34m\u001b[0m\u001b[0;34m\u001b[0m\u001b[0m\n",
      "\u001b[0;31mNameError\u001b[0m: name 'ds1985' is not defined"
     ]
    }
   ],
   "source": [
    "import numpy as np\n",
    "import xarray as xr\n",
    "import pandas as pd\n",
    "import matplotlib.pyplot as plt\n",
    "\n",
    "import cartopy.crs as ccrs\n",
    "import cartopy.mpl.ticker as cticker\n",
    "from cartopy.util import add_cyclic_point\n",
    "\n",
    "ds = xr.open_dataset(r'air.sfc.2021.nc')\n",
    "#ds1985 = xr.open_dataset(r'air.sfc.1985.nc')\n",
    "\n",
    "lats = ds.variables['lat'][:]\n",
    "lons = ds.variables['lon'][:]\n",
    "#print (lons)\n",
    "time = ds.variables['time'][:]\n",
    "temp = ds.variables['air'][:]\n",
    "\n",
    "temp1985 = ds1985.variables['air'][:]\n",
    "\n",
    "temp, lons = add_cyclic_point(temp, coord=ds['lon']) # add a cyclic boundary after 357.5;\n",
    "\n",
    "fig = plt.figure(figsize=(12,9))\n",
    "\n",
    "ax = plt.axes(projection=ccrs.PlateCarree())\n",
    "\n",
    "cs = ax.contourf(lons, lats, temp[0, :, :], cmap='coolwarm', extend='both')\n",
    "\n",
    "temp1d=np.zeros(365) # for 2021;\n",
    "temp1d1985=np.zeros(365) # for 1985;\n",
    "x1d=np.zeros(365)\n",
    "ix = int(120./2.5)\n",
    "jy = int((90.-23.5)/2.5)\n",
    "print (f'ix jy= ',{ix}, {jy})\n",
    "\n",
    "for i in range(365):\n",
    "    x1d[i]=i\n",
    "    temp1d[i]=temp[i, jy, ix] # extract 2021 data;\n",
    "    temp1d1985[i]=temp1985[i, jy, ix] # extract 1985 data;\n",
    "\n",
    "# Add coastlines;\n",
    "ax.coastlines()\n",
    "\n",
    "# Add gridlines;\n",
    "gl = ax.gridlines(crs=ccrs.PlateCarree(), draw_labels=False,\n",
    "                 linewidth=2, color='black', alpha=0.5, linestyle='--')\n",
    "\n",
    "gl.xlines = True\n",
    "gl.ylines = True\n",
    "\n",
    "ax.scatter(lons[ix], lats[jy], marker=\"*\", color='b', s=75, transform=ccrs.PlateCarree())\n",
    "\n",
    "# Define the xticks for longitudes;\n",
    "ax.set_xticks(np.arange(-180, 181, 60), crs=ccrs.PlateCarree())\n",
    "lon_formatter = cticker.LongitudeFormatter()\n",
    "ax.xaxis.set_major_formatter(lon_formatter)\n",
    "\n",
    "# Define the yticks for latitudes;\n",
    "ax.set_yticks(np.arange(-90, 91, 30), crs=ccrs.PlateCarree())\n",
    "lat_formatter = cticker.LatitudeFormatter()\n",
    "ax.yaxis.set_major_formatter(lat_formatter)\n",
    "\n",
    "# Add color bar;\n",
    "cbar = plt.colorbar(cs, shrink=0.9, orientation='horizontal', label='Surface Air Temperature (K)')\n",
    "\n",
    "# Add figure title;\n",
    "plt.title('Global Surface Temperature 2021 from NCEP')\n",
    "fig.savefig('ttrobinson.png', dpi=300)\n",
    "\n",
    "plt.show()"
   ]
  }
 ],
 "metadata": {
  "kernelspec": {
   "display_name": "Python 3.10.1 64-bit",
   "language": "python",
   "name": "python3"
  },
  "language_info": {
   "codemirror_mode": {
    "name": "ipython",
    "version": 3
   },
   "file_extension": ".py",
   "mimetype": "text/x-python",
   "name": "python",
   "nbconvert_exporter": "python",
   "pygments_lexer": "ipython3",
   "version": "3.10.1"
  },
  "vscode": {
   "interpreter": {
    "hash": "aee8b7b246df8f9039afb4144a1f6fd8d2ca17a180786b69acc140d282b71a49"
   }
  }
 },
 "nbformat": 4,
 "nbformat_minor": 5
}
