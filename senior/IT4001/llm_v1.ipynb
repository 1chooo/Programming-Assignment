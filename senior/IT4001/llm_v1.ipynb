{
 "cells": [
  {
   "cell_type": "code",
   "execution_count": null,
   "id": "6a1e9cb1",
   "metadata": {},
   "outputs": [],
   "source": [
    "# !/usr/bin/env python\n",
    "# -*- coding: UTF-8 -*-"
   ]
  },
  {
   "cell_type": "code",
   "execution_count": null,
   "id": "74657a5f",
   "metadata": {},
   "outputs": [],
   "source": [
    "# !pip install openai\n",
    "# !pip install langchain"
   ]
  },
  {
   "cell_type": "code",
   "execution_count": 1,
   "id": "48601624",
   "metadata": {},
   "outputs": [
    {
     "name": "stderr",
     "output_type": "stream",
     "text": [
      "/Users/linchunho/Developer/PEGATRON_Summer_23/venv/lib/python3.9/site-packages/urllib3/__init__.py:34: NotOpenSSLWarning: urllib3 v2.0 only supports OpenSSL 1.1.1+, currently the 'ssl' module is compiled with 'LibreSSL 2.8.3'. See: https://github.com/urllib3/urllib3/issues/3020\n",
      "  warnings.warn(\n"
     ]
    }
   ],
   "source": [
    "import os\n",
    "import requests\n",
    "import openai\n",
    "from langchain.agents.agent_toolkits import create_python_agent\n",
    "from langchain.agents import load_tools, initialize_agent\n",
    "from langchain.agents import AgentType\n",
    "from langchain.tools.python.tool import PythonREPLTool\n",
    "from langchain.python import PythonREPL\n",
    "from langchain.chat_models import ChatOpenAI\n",
    "import warnings\n",
    "\n",
    "warnings.filterwarnings(\"ignore\")"
   ]
  },
  {
   "cell_type": "code",
   "execution_count": 2,
   "id": "70c9bb78",
   "metadata": {},
   "outputs": [],
   "source": [
    "URL = \"http://172.18.212.81:32000/get_openai_secret_key\"\n",
    "PARAMS = {'user_name': \"Hugo_Lin\"}"
   ]
  },
  {
   "cell_type": "code",
   "execution_count": 3,
   "id": "baf60c6d",
   "metadata": {},
   "outputs": [],
   "source": [
    "def get_openai_secret_key() -> str:\n",
    "    data = requests.get(url = URL, params = PARAMS).json()\n",
    "    return data[\"openai_secret_key\"]"
   ]
  },
  {
   "cell_type": "code",
   "execution_count": 4,
   "id": "d8442085",
   "metadata": {},
   "outputs": [],
   "source": [
    "openai.api_key = get_openai_secret_key()"
   ]
  },
  {
   "cell_type": "code",
   "execution_count": 5,
   "id": "c37c55b8",
   "metadata": {},
   "outputs": [],
   "source": [
    "def get_completion(prompt, model=\"gpt-3.5-turbo\"):\n",
    "    messages = [{\"role\": \"user\", \"content\": prompt}]\n",
    "    response = openai.ChatCompletion.create(\n",
    "        model=model,\n",
    "        messages=messages,\n",
    "        temperature=0, \n",
    "    )\n",
    "    return response.choices[0].message[\"content\"]"
   ]
  },
  {
   "cell_type": "code",
   "execution_count": 43,
   "id": "7451eb37",
   "metadata": {},
   "outputs": [],
   "source": [
    "api_list = '''\n",
    "{\n",
    "    \"name\": \"capture_image()\",\n",
    "    \"params\": \"None\",\n",
    "    \"return\": \"image_info\"\n",
    "}\n",
    "\n",
    "{\n",
    "    \"name\": \"get_object_info()\",\n",
    "    \"params\": \"image_info\",\n",
    "    \"return\": \"x, y\"\n",
    "}\n",
    "\n",
    "{\n",
    "    \"name\": \"pick((x, y))\",\n",
    "    \"params\": \"x, y\",\n",
    "    \"return\": \"True\"\n",
    "}\n",
    "\n",
    "{\n",
    "    \"name\": \"place((x, y))\",\n",
    "    \"params\": \"x, y\",\n",
    "    \"return\": \"False\"\n",
    "}\n",
    "'''\n",
    "\n",
    "\n",
    "role = f\"\"\"\n",
    "The excellent programmer, and the job is to write the code\\\n",
    "to help the factory operators controll the robot; however, \\\n",
    "there are the tips to follow the {api_list} to finish the jobs.\\\n",
    "You don't need to write the API again, just build the main \\\n",
    "program\n",
    "\"\"\"\n",
    "\n",
    "scenarios = f\"\"\"\n",
    "locating the ball labeled A within the scene and obtaining \\\n",
    "its coordinates. After locating it, kindly help me perform \\\n",
    "the action of picking up the ball and subsequently placing \\\n",
    "it back down. Let's assume that the scene has dimensions of \\\n",
    "50x50 units, and the A ball is located at coordinates 10x10.\n",
    "\"\"\"\n",
    "\n",
    "prompt = f\"\"\"\n",
    "As the {role} you are, you have to write the code follow the {api_list}\\\n",
    "Then I will give you the {scenarios}, that you have to follow to \\\n",
    "achieve the goal, and show me the complete Python Code. Remember, \\\n",
    "the API functions have already been defined, so you don't need to write them again. \\\n",
    "Just focus on writing the main program.\n",
    "\n",
    "Use the following format:\n",
    "The following Code:\n",
    "```\n",
    "Only the code of main program\n",
    "```\n",
    "\"\"\""
   ]
  },
  {
   "cell_type": "code",
   "execution_count": 44,
   "id": "32d75d4a",
   "metadata": {},
   "outputs": [],
   "source": [
    "response = get_completion(prompt)"
   ]
  },
  {
   "cell_type": "code",
   "execution_count": 45,
   "id": "bfc820bf",
   "metadata": {},
   "outputs": [
    {
     "name": "stdout",
     "output_type": "stream",
     "text": [
      "The following code will help the factory operators control the robot to locate and manipulate the ball labeled A:\n",
      "\n",
      "```python\n",
      "def capture_image():\n",
      "    # Code to capture the image and obtain image_info\n",
      "    image_info = ...\n",
      "    return image_info\n",
      "\n",
      "def get_object_info(image_info):\n",
      "    # Code to process the image and obtain the coordinates of the ball labeled A\n",
      "    x, y = ...\n",
      "    return x, y\n",
      "\n",
      "def pick(x, y):\n",
      "    # Code to pick up the ball at coordinates (x, y)\n",
      "    # Return True if successful, False otherwise\n",
      "    return True\n",
      "\n",
      "def place(x, y):\n",
      "    # Code to place the ball at coordinates (x, y)\n",
      "    # Return True if successful, False otherwise\n",
      "    return False\n",
      "\n",
      "# Main program\n",
      "image_info = capture_image()\n",
      "x, y = get_object_info(image_info)\n",
      "pick(x, y)\n",
      "place(x, y)\n",
      "```\n",
      "\n",
      "Please note that the actual implementation of the functions `capture_image()`, `get_object_info()`, `pick()`, and `place()` will depend on the specific hardware and software setup of the robot and the factory environment.\n"
     ]
    }
   ],
   "source": [
    "print(response)"
   ]
  },
  {
   "cell_type": "code",
   "execution_count": 46,
   "id": "9c29a671",
   "metadata": {},
   "outputs": [],
   "source": [
    "api_list = '''\n",
    "{\n",
    "    \"name\": \"capture_image()\",\n",
    "    \"params\": \"None\",\n",
    "    \"return\": \"image_info\"\n",
    "}\n",
    "\n",
    "{\n",
    "    \"name\": \"get_object_info()\",\n",
    "    \"params\": \"image_info\",\n",
    "    \"return\": \"x, y\"\n",
    "}\n",
    "\n",
    "{\n",
    "    \"name\": \"pick((x, y))\",\n",
    "    \"params\": \"x, y\",\n",
    "    \"return\": \"True\"\n",
    "}\n",
    "\n",
    "{\n",
    "    \"name\": \"place((x, y))\",\n",
    "    \"params\": \"x, y\",\n",
    "    \"return\": \"False\"\n",
    "}\n",
    "'''\n",
    "\n",
    "\n",
    "role = f\"\"\"\n",
    "The excellent programmer, and the job is to write the code\\\n",
    "to help the factory operators control the robot; however, \\\n",
    "there are some tips to follow the API list to finish the jobs.\\\n",
    "You don't need to write the API functions again, just build the main \\\n",
    "program.\n",
    "\"\"\"\n",
    "\n",
    "scenarios = f\"\"\"\n",
    "One of the tasks involves locating the ball labeled A within the scene and obtaining \\\n",
    "its coordinates. After locating it, kindly help me perform the action of picking up \\\n",
    "the ball and subsequently placing it back down. Let's assume that the scene has \\\n",
    "dimensions of 50x50 units, and the A ball is located at coordinates 10x10.\n",
    "\"\"\"\n",
    "\n",
    "prompt = f\"\"\"\n",
    "As the {role} you are, you have to write the main program using the provided API functions. \\\n",
    "Then I will give you the following scenario:\n",
    "{scenarios}\n",
    "\n",
    "You need to follow the given scenario to achieve the goal and show me the complete Python code. \\\n",
    "Remember, the API functions have already been defined, so you don't need to write them again. \\\n",
    "Just focus on writing the main program.\n",
    "\n",
    "Use the following format:\n",
    "The following code represents the main program:\n",
    "```\n",
    "Write your main program here\n",
    "```\n",
    "\"\"\""
   ]
  },
  {
   "cell_type": "code",
   "execution_count": 47,
   "id": "6883447b",
   "metadata": {},
   "outputs": [],
   "source": [
    "response = get_completion(prompt)"
   ]
  },
  {
   "cell_type": "code",
   "execution_count": 48,
   "id": "3078841f",
   "metadata": {},
   "outputs": [
    {
     "name": "stdout",
     "output_type": "stream",
     "text": [
      "The following code represents the main program:\n",
      "\n",
      "```python\n",
      "# Import the API functions\n",
      "from api import locate_ball, pick_up_ball, place_ball\n",
      "\n",
      "# Define the scene dimensions\n",
      "scene_width = 50\n",
      "scene_height = 50\n",
      "\n",
      "# Define the coordinates of the ball labeled A\n",
      "ball_a_x = 10\n",
      "ball_a_y = 10\n",
      "\n",
      "# Locate the ball labeled A and obtain its coordinates\n",
      "ball_a_coordinates = locate_ball('A')\n",
      "\n",
      "# Check if the ball labeled A is located at the specified coordinates\n",
      "if ball_a_coordinates == (ball_a_x, ball_a_y):\n",
      "    # Pick up the ball labeled A\n",
      "    pick_up_ball('A')\n",
      "    \n",
      "    # Place the ball labeled A back down\n",
      "    place_ball('A')\n",
      "else:\n",
      "    print(\"Ball A is not located at the specified coordinates.\")\n",
      "```\n",
      "\n",
      "Note: This code assumes that the API functions `locate_ball`, `pick_up_ball`, and `place_ball` are already defined and can be imported using the `from api import` statement.\n"
     ]
    }
   ],
   "source": [
    "print(response)"
   ]
  },
  {
   "cell_type": "code",
   "execution_count": 49,
   "id": "9866668e",
   "metadata": {},
   "outputs": [],
   "source": [
    "api_list = '''\n",
    "{\n",
    "    \"name\": \"capture_image()\",\n",
    "    \"params\": \"None\",\n",
    "    \"return\": \"image_info\"\n",
    "}\n",
    "\n",
    "{\n",
    "    \"name\": \"get_object_info()\",\n",
    "    \"params\": \"image_info\",\n",
    "    \"return\": \"x, y\"\n",
    "}\n",
    "\n",
    "{\n",
    "    \"name\": \"pick((x, y))\",\n",
    "    \"params\": \"x, y\",\n",
    "    \"return\": \"True\"\n",
    "}\n",
    "\n",
    "{\n",
    "    \"name\": \"place((x, y))\",\n",
    "    \"params\": \"x, y\",\n",
    "    \"return\": \"False\"\n",
    "}\n",
    "'''\n",
    "\n",
    "\n",
    "role = f\"\"\"\n",
    "The excellent programmer, and the job is to write the code\\\n",
    "to help the factory operators controll the robot; however, \\\n",
    "there are the tips to follow the {api_list} to finish the jobs.\\\n",
    "You don't need to write the API again, just build the main \\\n",
    "program\n",
    "\"\"\"\n",
    "\n",
    "scenarios = f\"\"\"\n",
    "locating the ball labeled A within the scene and obtaining \\\n",
    "its coordinates. After locating it, kindly help me perform \\\n",
    "the action of picking up the ball and subsequently placing \\\n",
    "it back down. Let's assume that the scene has dimensions of \\\n",
    "50x50 units, and the A ball is located at coordinates 10x10.\n",
    "\"\"\"\n",
    "\n",
    "prompt = f\"\"\"\n",
    "As the {role} you are, you have to write the code follow the {api_list}\\\n",
    "Then I will give you the {scenarios}, that you have to follow to \\\n",
    "achieve the goal, and show me the complete Python Code. Remember, \\\n",
    "the API functions have already been defined, so you don't need to write them again. \\\n",
    "Just focus on writing the main program.\n",
    "\n",
    "Use the following format:\n",
    "The following Code:\n",
    "```\n",
    "Only the code of main program\n",
    "```\n",
    "\"\"\""
   ]
  },
  {
   "cell_type": "code",
   "execution_count": 50,
   "id": "a04e5f6c",
   "metadata": {},
   "outputs": [],
   "source": [
    "response = get_completion(prompt)"
   ]
  },
  {
   "cell_type": "code",
   "execution_count": 51,
   "id": "ebee3ce0",
   "metadata": {},
   "outputs": [
    {
     "name": "stdout",
     "output_type": "stream",
     "text": [
      "The following code will help the factory operators control the robot to locate and pick up the ball labeled A at coordinates (10, 10) and then place it back down.\n",
      "\n",
      "```python\n",
      "def main():\n",
      "    # Capture image\n",
      "    image_info = capture_image()\n",
      "\n",
      "    # Get object info\n",
      "    x, y = get_object_info(image_info)\n",
      "\n",
      "    # Check if ball A is located at (10, 10)\n",
      "    if x == 10 and y == 10:\n",
      "        # Pick up the ball\n",
      "        pick((x, y))\n",
      "\n",
      "        # Place the ball back down\n",
      "        place((x, y))\n",
      "\n",
      "if __name__ == \"__main__\":\n",
      "    main()\n",
      "```\n",
      "\n",
      "Note: This code assumes that the API functions `capture_image()`, `get_object_info()`, `pick((x, y))`, and `place((x, y))` have already been defined.\n"
     ]
    }
   ],
   "source": [
    "print(response)"
   ]
  },
  {
   "cell_type": "code",
   "execution_count": null,
   "id": "90642f1d",
   "metadata": {},
   "outputs": [],
   "source": []
  }
 ],
 "metadata": {
  "kernelspec": {
   "display_name": "Python 3 (ipykernel)",
   "language": "python",
   "name": "python3"
  },
  "language_info": {
   "codemirror_mode": {
    "name": "ipython",
    "version": 3
   },
   "file_extension": ".py",
   "mimetype": "text/x-python",
   "name": "python",
   "nbconvert_exporter": "python",
   "pygments_lexer": "ipython3",
   "version": "3.9.6"
  }
 },
 "nbformat": 4,
 "nbformat_minor": 5
}
